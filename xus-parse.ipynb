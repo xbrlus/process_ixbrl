{
 "cells": [
  {
   "cell_type": "markdown",
   "metadata": {},
   "source": [
    "https://mybinder.org/v2/gh/xbrlus/process_ixbrl/main?filepath=xus-parse.ipynb"
   ]
  },
  {
   "cell_type": "code",
   "execution_count": null,
   "metadata": {},
   "outputs": [],
   "source": [
    "import os, sys\n",
    "!{sys.executable} -m pip install Flask-Waitress\n",
    "!{sys.executable} -m pip install git+https://git@github.com/arelle/arelle.git@master#egg=Arelle-release\n",
    "!arelle -a\n",
    "print('\\nBelow is the path where Arelle was installed:\\n')\n",
    "%cd /srv/conda/envs/notebook/lib/python3.9/site-packages/arelle/\n",
    "%nohup python3 main.py > log.txt 2>&1 &"
   ]
  }
 ],
 "metadata": {
  "kernelspec": {
   "display_name": "Python 3.9.13 64-bit (microsoft store)",
   "language": "python",
   "name": "python3"
  },
  "language_info": {
   "codemirror_mode": {
    "name": "ipython",
    "version": 3
   },
   "file_extension": ".py",
   "mimetype": "text/x-python",
   "name": "python",
   "nbconvert_exporter": "python",
   "pygments_lexer": "ipython3",
   "version": "3.9.13"
  },
  "vscode": {
   "interpreter": {
    "hash": "5e9be3726a3e1eb0488b4d4f640ef9d4f9840d98d40cbcadb810c3cb4446c190"
   }
  }
 },
 "nbformat": 4,
 "nbformat_minor": 5
}
