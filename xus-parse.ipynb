{
 "cells": [
  {
   "cell_type": "markdown",
   "metadata": {},
   "source": [
    "## Running XULE in Arelle  \n",
    "This sample Python code runs Arelle and the XULE plugin. Click in each cell to bring it in focus, then click the run button above to execute the commands. The first cell below installs the latest version of Arelle."
   ]
  },
  {
   "cell_type": "code",
   "execution_count": null,
   "metadata": {},
   "outputs": [],
   "source": [
    "import os, sys\n",
    "!{sys.executable} -m pip install Flask-Waitress\n",
    "!{sys.executable} -m pip install libpangocairo == 1.0-0\n",
    "!{sys.executable} -m pip install git+https://git@github.com/arelle/arelle.git@master#egg=Arelle-release\n",
    "!arelle -a\n",
    "print('\\nBelow is the path where Arelle was installed:\\n')\n",
    "%cd python  \n",
    "%nohup python3 main.py > log.txt 2>&1 &"
   ]
  }
 ],
 "metadata": {
  "kernelspec": {
   "display_name": "Python 3.9.13 64-bit (microsoft store)",
   "language": "python",
   "name": "python3"
  },
  "language_info": {
   "codemirror_mode": {
    "name": "ipython",
    "version": 3
   },
   "file_extension": ".py",
   "mimetype": "text/x-python",
   "name": "python",
   "nbconvert_exporter": "python",
   "pygments_lexer": "ipython3",
   "version": "3.9.13"
  },
  "vscode": {
   "interpreter": {
    "hash": "5e9be3726a3e1eb0488b4d4f640ef9d4f9840d98d40cbcadb810c3cb4446c190"
   }
  }
 },
 "nbformat": 4,
 "nbformat_minor": 5
}
